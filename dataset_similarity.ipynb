{
  "nbformat": 4,
  "nbformat_minor": 0,
  "metadata": {
    "colab": {
      "provenance": []
    },
    "kernelspec": {
      "name": "python3",
      "display_name": "Python 3"
    },
    "language_info": {
      "name": "python"
    }
  },
  "cells": [
    {
      "cell_type": "code",
      "source": [
        "!pip install fuzzywuzzy"
      ],
      "metadata": {
        "colab": {
          "base_uri": "https://localhost:8080/"
        },
        "id": "HPc4MrfY0bpK",
        "outputId": "3c4d47a7-0781-4ba5-ab39-c8abdb93e879"
      },
      "execution_count": 13,
      "outputs": [
        {
          "output_type": "stream",
          "name": "stdout",
          "text": [
            "Collecting fuzzywuzzy\n",
            "  Downloading fuzzywuzzy-0.18.0-py2.py3-none-any.whl.metadata (4.9 kB)\n",
            "Downloading fuzzywuzzy-0.18.0-py2.py3-none-any.whl (18 kB)\n",
            "Installing collected packages: fuzzywuzzy\n",
            "Successfully installed fuzzywuzzy-0.18.0\n"
          ]
        }
      ]
    },
    {
      "cell_type": "code",
      "source": [
        "# Importing necessary libraries\n",
        "import pandas as pd\n",
        "from sklearn.feature_extraction.text import TfidfVectorizer\n",
        "from sklearn.metrics.pairwise import cosine_similarity\n",
        "from google.colab import drive\n",
        "from fuzzywuzzy import fuzz"
      ],
      "metadata": {
        "colab": {
          "base_uri": "https://localhost:8080/"
        },
        "id": "AmLwtkIhu-wE",
        "outputId": "93c39083-295f-4641-a845-9d27a3f6e3c8"
      },
      "execution_count": 14,
      "outputs": [
        {
          "output_type": "stream",
          "name": "stderr",
          "text": [
            "/usr/local/lib/python3.10/dist-packages/fuzzywuzzy/fuzz.py:11: UserWarning: Using slow pure-python SequenceMatcher. Install python-Levenshtein to remove this warning\n",
            "  warnings.warn('Using slow pure-python SequenceMatcher. Install python-Levenshtein to remove this warning')\n"
          ]
        }
      ]
    },
    {
      "cell_type": "code",
      "source": [
        "# Mount Google Drive to access the file\n",
        "drive.mount('/content/drive')"
      ],
      "metadata": {
        "colab": {
          "base_uri": "https://localhost:8080/"
        },
        "id": "LBrGsf8yvAl7",
        "outputId": "453c79e3-cb40-4eac-b9d7-fd795fb29756"
      },
      "execution_count": 15,
      "outputs": [
        {
          "output_type": "stream",
          "name": "stdout",
          "text": [
            "Drive already mounted at /content/drive; to attempt to forcibly remount, call drive.mount(\"/content/drive\", force_remount=True).\n"
          ]
        }
      ]
    },
    {
      "cell_type": "code",
      "source": [
        "# Read the CSV file from Google Drive\n",
        "# Update the file path according to where your CSV is stored in Google Drive\n",
        "file_path = '/content/drive/MyDrive/Colab/synthetic_text_full.csv'\n",
        "df = pd.read_csv(file_path)"
      ],
      "metadata": {
        "id": "eLmYBkKqvHei"
      },
      "execution_count": null,
      "outputs": []
    },
    {
      "cell_type": "code",
      "source": [
        "# Display the first few rows of the dataframe\n",
        "df.head()\n",
        "\n",
        "# Assuming the column names are 'generated_text' and 'synthetic_text'\n",
        "# We will calculate TF-IDF for both columns and then compute cosine similarity\n",
        "\n",
        "# Initialize the TfidfVectorizer\n",
        "vectorizer = TfidfVectorizer()\n",
        "\n",
        "# Combine the two text columns into one list (you can adjust if needed)\n",
        "# texts = df['generated_text'].tolist() + df['synthetic_text'].tolist()"
      ],
      "metadata": {
        "id": "9e-z2U-UvQki"
      },
      "execution_count": 16,
      "outputs": []
    },
    {
      "cell_type": "code",
      "source": [
        "def compute_cosine_similarity(text1, text2):\n",
        "    tfidf_matrix = vectorizer.fit_transform([text1, text2])\n",
        "    return cosine_similarity(tfidf_matrix[0:1], tfidf_matrix[1:2])[0][0]\n",
        "\n",
        "# Function to compute fuzzy match score (percentage similarity) between two text strings\n",
        "def compute_fuzzy_similarity(text1, text2):\n",
        "    return fuzz.ratio(text1, text2) / 100.0  # Normalizing the score to [0, 1]\n",
        "\n",
        "# Initialize a list to store similarity scores\n",
        "similarity_scores = []\n",
        "\n",
        "# Define the weights for the cosine similarity and fuzzy matching\n",
        "cosine_weight = 0.7  # Weight for cosine similarity (TF-IDF)\n",
        "fuzzy_weight = 0.3   # Weight for fuzzy matching"
      ],
      "metadata": {
        "id": "4qFYc8dmvXKu"
      },
      "execution_count": 17,
      "outputs": []
    },
    {
      "cell_type": "code",
      "source": [
        "for i, row in df.iterrows():\n",
        "    generated_text = row['generated_text']\n",
        "    synthetic_text = row['synthetic_text']\n",
        "\n",
        "    # Calculate the cosine similarity (TF-IDF)\n",
        "    cosine_sim = compute_cosine_similarity(generated_text, synthetic_text)\n",
        "\n",
        "    # Calculate the fuzzy similarity score\n",
        "    fuzzy_sim = compute_fuzzy_similarity(generated_text, synthetic_text)\n",
        "\n",
        "    # Compute the weighted average similarity score\n",
        "    weighted_similarity = (cosine_weight * cosine_sim) + (fuzzy_weight * fuzzy_sim)\n",
        "\n",
        "    # Append the weighted similarity score to the list\n",
        "    similarity_scores.append(weighted_similarity)\n"
      ],
      "metadata": {
        "id": "23ZsNUDo0UVf"
      },
      "execution_count": 18,
      "outputs": []
    },
    {
      "cell_type": "code",
      "execution_count": 19,
      "metadata": {
        "id": "03Vfq5Q6uDVd"
      },
      "outputs": [],
      "source": [
        "# Convert the list of similarity scores into a DataFrame or a Series\n",
        "similarity_scores_df = pd.DataFrame({\n",
        "    'generated_text': df['generated_text'],\n",
        "    'synthetic_text': df['synthetic_text'],\n",
        "    'similarity_score': similarity_scores\n",
        "})\n",
        "\n",
        "# Display the resulting dataframe with similarity scores\n",
        "similarity_scores_df.head()\n",
        "\n",
        "# Optionally, save the output to a new CSV file\n",
        "output_file_path = '/content/drive/MyDrive/Colab/similarity_scores.csv'\n",
        "similarity_scores_df.to_csv(output_file_path, index=False)"
      ]
    },
    {
      "cell_type": "code",
      "source": [],
      "metadata": {
        "id": "w0y3jPFe08yg"
      },
      "execution_count": null,
      "outputs": []
    }
  ]
}