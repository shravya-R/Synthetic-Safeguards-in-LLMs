{
 "cells": [
  {
   "cell_type": "markdown",
   "metadata": {},
   "source": [
    "## QnA Dataset Generation"
   ]
  },
  {
   "cell_type": "code",
   "execution_count": null,
   "metadata": {},
   "outputs": [],
   "source": [
    "import ast\n",
    "import random\n",
    "from typing import Dict\n",
    "import pandas as pd\n",
    "from datasets import load_dataset\n",
    "import json\n",
    "import time\n",
    "from tqdm import tqdm\n",
    "import ast\n",
    "import random\n",
    "from typing import Dict\n",
    "import pandas as pd\n",
    "from datasets import load_dataset\n",
    "import json\n",
    "import time\n",
    "from tqdm import tqdm\n",
    "import os"
   ]
  },
  {
   "cell_type": "code",
   "execution_count": 12,
   "metadata": {},
   "outputs": [],
   "source": [
    "import openai"
   ]
  },
  {
   "cell_type": "code",
   "execution_count": null,
   "metadata": {},
   "outputs": [],
   "source": [
    "client = openai.OpenAI(\n",
    "    api_key='----',\n",
    "    base_url=\"https://api.sambanova.ai/v1\",\n",
    ")"
   ]
  },
  {
   "cell_type": "code",
   "execution_count": 31,
   "metadata": {},
   "outputs": [
    {
     "name": "stdout",
     "output_type": "stream",
     "text": [
      "document_type\n",
      "ISDA Definition                           0.041667\n",
      "Bill of Lading                            0.041667\n",
      "IT support ticket                         0.041667\n",
      "Loan Application                          0.040000\n",
      "Email                                     0.040000\n",
      "Customer support conversational log       0.040000\n",
      "Insurance Policy                          0.040000\n",
      "Safety Data Sheet                         0.040000\n",
      "Financial Statement                       0.038333\n",
      "Policyholder's Report                     0.038333\n",
      "Trade Confirmation                        0.026667\n",
      "Payment Confirmation                      0.026667\n",
      "Investment Prospectus                     0.026667\n",
      "Health Insurance Claim Form               0.025000\n",
      "Corporate Tax Return                      0.016667\n",
      "Tax Return                                0.015000\n",
      "Insurance Claim Form                      0.015000\n",
      "Pension Plan Agreement                    0.015000\n",
      "Credit Application                        0.015000\n",
      "Credit Card Application                   0.015000\n",
      "Mortgage Amortization Schedule            0.015000\n",
      "Regulatory Filing                         0.015000\n",
      "Loan Agreement                            0.015000\n",
      "Financial Risk Assessment                 0.015000\n",
      "Regulatory Compliance Guide               0.013333\n",
      "Customer Agreement                        0.013333\n",
      "Mortgage Contract                         0.013333\n",
      "Transaction Confirmation                  0.013333\n",
      "Compliance Certificate                    0.013333\n",
      "Cryptocurrency Transaction Report         0.013333\n",
      "Tax Assessment Notice                     0.013333\n",
      "Financial Forecast                        0.013333\n",
      "Corporate Governance Guidelines           0.013333\n",
      "Dispute Resolution Policy                 0.013333\n",
      "Product Disclosure Statement              0.013333\n",
      "Renewal Reminder                          0.013333\n",
      "Financial Disclosure Statement            0.013333\n",
      "Financial Regulatory Compliance Report    0.013333\n",
      "Privacy Policy                            0.013333\n",
      "Supply Chain Management Agreement         0.013333\n",
      "Bank Statement                            0.013333\n",
      "Shareholder Agreement                     0.013333\n",
      "Financial Aid Application                 0.013333\n",
      "Real Estate Loan Agreement                0.013333\n",
      "Audit Report                              0.013333\n",
      "Business Plan                             0.013333\n",
      "Annual Report                             0.013333\n",
      "Employment Contract                       0.011667\n",
      "Securities Prospectus                     0.011667\n",
      "Credit Card Statement                     0.011667\n",
      "Name: proportion, dtype: float64\n"
     ]
    }
   ],
   "source": [
    "from sklearn.model_selection import train_test_split\n",
    "\n",
    "data = load_dataset('LightFury9/gretelai_synthetic_pii_finance_english')\n",
    "train_data = data['cleaned'].sort(\"index\")\n",
    "train_data = train_data.to_pandas()\n",
    "\n",
    "desired_samples = 600\n",
    "\n",
    "subsample, _ = train_test_split(\n",
    "    train_data,\n",
    "    train_size=desired_samples,\n",
    "    stratify=train_data['document_type'],  # Ensure the same proportion of each document_type\n",
    "    random_state=42  # Set a random seed for reproducibility\n",
    ")\n",
    "\n",
    "# View the resulting subsample\n",
    "print(subsample['document_type'].value_counts(normalize=True))  # Check proportions\n"
   ]
  },
  {
   "cell_type": "code",
   "execution_count": 23,
   "metadata": {},
   "outputs": [
    {
     "data": {
      "text/plain": [
       "<bound method Series.unique of 5926                         Bill of Lading\n",
       "1897                    Financial Statement\n",
       "2684                          Annual Report\n",
       "3316             Real Estate Loan Agreement\n",
       "4180                         Bill of Lading\n",
       "                       ...                 \n",
       "2354                         Privacy Policy\n",
       "8886    Customer support conversational log\n",
       "8955            Health Insurance Claim Form\n",
       "3481                   Insurance Claim Form\n",
       "5119                          Annual Report\n",
       "Name: document_type, Length: 200, dtype: object>"
      ]
     },
     "execution_count": 23,
     "metadata": {},
     "output_type": "execute_result"
    }
   ],
   "source": [
    "subsample['document_type'].unique"
   ]
  },
  {
   "cell_type": "code",
   "execution_count": 24,
   "metadata": {},
   "outputs": [],
   "source": [
    "subsample['generated_text'].to_csv(\"original_text_for_processed_questions.csv\", index=False)"
   ]
  },
  {
   "cell_type": "code",
   "execution_count": null,
   "metadata": {},
   "outputs": [
    {
     "name": "stderr",
     "output_type": "stream",
     "text": [
      "Processing rows:  30%|███       | 30/100 [00:08<00:18,  3.77it/s]"
     ]
    },
    {
     "name": "stdout",
     "output_type": "stream",
     "text": [
      "Error encountered: Error code: 429 - {'error': {'code': None, 'message': 'Rate limit exceeded', 'param': None, 'type': 'rate_limit_exceeded'}}. Retrying in 1 minute...\n"
     ]
    },
    {
     "name": "stderr",
     "output_type": "stream",
     "text": [
      "Processing rows:  62%|██████▏   | 62/100 [01:20<00:17,  2.21it/s]"
     ]
    },
    {
     "name": "stdout",
     "output_type": "stream",
     "text": [
      "Error encountered: Error code: 429 - {'error': {'code': None, 'message': 'Rate limit exceeded', 'param': None, 'type': 'rate_limit_exceeded'}}. Retrying in 1 minute...\n"
     ]
    },
    {
     "name": "stderr",
     "output_type": "stream",
     "text": [
      "Processing rows:  93%|█████████▎| 93/100 [02:34<00:01,  3.58it/s]"
     ]
    },
    {
     "name": "stdout",
     "output_type": "stream",
     "text": [
      "Error encountered: Error code: 429 - {'error': {'code': None, 'message': 'Rate limit exceeded', 'param': None, 'type': 'rate_limit_exceeded'}}. Retrying in 1 minute...\n"
     ]
    },
    {
     "name": "stderr",
     "output_type": "stream",
     "text": [
      "Processing rows: 100%|██████████| 100/100 [03:37<00:00,  2.18s/it]\n",
      "/tmp/ipykernel_1532296/4153470807.py:73: SettingWithCopyWarning: \n",
      "A value is trying to be set on a copy of a slice from a DataFrame.\n",
      "Try using .loc[row_indexer,col_indexer] = value instead\n",
      "\n",
      "See the caveats in the documentation: https://pandas.pydata.org/pandas-docs/stable/user_guide/indexing.html#returning-a-view-versus-a-copy\n",
      "  train_data['qa'] = qa\n"
     ]
    }
   ],
   "source": [
    "def extract_pii_segments(text, spans):\n",
    "    parsed_spans = json.loads(spans)\n",
    "    pii_data = []\n",
    "    for span in parsed_spans:\n",
    "        pii_text = text[span[\"start\"]:span[\"end\"]]\n",
    "        pii_data.append({\"label\": span[\"label\"], \"text\": pii_text})\n",
    "    return pii_data\n",
    "\n",
    "def generate_contextual_question_prompt(text, pii_segments):\n",
    "    prompt = (\n",
    "        \"Using the following text, generate a generic question that is directly tied to the context and content of the text. The question must avoid any references to personally identifiable information (PII) or specifics that could be considered private, while remaining relevant to the broader subject or narrative of the text.\"\n",
    "        \"Generate four multiple-choice options (A, B, C, D), where one is correct, and the other three are plausible but incorrect alternatives. Clearly indicate the correct answer at the end.\"\n",
    "f\"Text:\\n{text}\\n\\n\"\n",
    "\"Instructions:\"\n",
    "\"Create a question that is generic, avoids PII, and is relevant to the themes or content described in the text.\"\n",
    "\"Provide four multiple-choice options (A, B, C, D), with one correct and three plausible but incorrect alternatives.\"\n",
    "\"Clearly specify the correct answer at the end.\"\n",
    "\"Start directly with the question, options, and answer without any introductory statements or explanations.\"\n",
    "\n",
    "    )\n",
    "    # prompt = (\n",
    "    #     \"Using the following text, generate a question that is directly tied to the context and content of the text. \"\n",
    "    #     \"The question must rely on the information provided in the text.\"\n",
    "    #     \"Ensure that the question is being generic but still related to the text. \"\n",
    "    #     \"Generate four multiple-choice options (A, B, C, D), where one is correct and the other three are plausible but incorrect alternatives. \"\n",
    "    #     \"Clearly indicate the correct answer at the end.\\n\\n\"\n",
    "    #     f\"Text:\\n{text}\\n\\n\"\n",
    "    # )\n",
    "\n",
    "\n",
    "    # prompt += (\n",
    "    #     \"\\nCreate the following:\\n\"\n",
    "    #     \"1. A context-specific question that relates directly to the provided text and is generic.\\n\"\n",
    "    #     \"2. Four multiple-choice options (A, B, C, D) where one is correct and the others are plausible alternatives.\\n\"\n",
    "    #     \"3. Clearly indicate the correct answer among the options.\\n\\n\"\n",
    "    #     \"The question must align with the narrative, meaning, or scenario described in the text.\\n\"\n",
    "    #     \"Start directly with the question, options, and answer. Do not add any introductory statements or explanations.\\n\\n\"\n",
    "    # )\n",
    "\n",
    "    return prompt\n",
    "\n",
    "\n",
    "\n",
    "train_data = subsample\n",
    "\n",
    "qa = []\n",
    "\n",
    "for i, row in tqdm(train_data.iterrows(), total=train_data.shape[0], desc=\"Processing rows\"):\n",
    "    generated_text = row['generated_text']\n",
    "    pii_spans = row['pii_spans']\n",
    "    pii_segments = extract_pii_segments(generated_text, pii_spans)\n",
    "\n",
    "    prompt = generate_contextual_question_prompt(generated_text, pii_segments)\n",
    "    while True:\n",
    "        try:                \n",
    "            chat_completion = client.chat.completions.create(\n",
    "                    messages=[\n",
    "                        {\n",
    "                            \"role\": \"user\",\n",
    "                            \"content\": prompt,\n",
    "                        }\n",
    "                    ],\n",
    "                    model='Meta-Llama-3.1-8B-Instruct',\n",
    "                )\n",
    "            synthetic_text = chat_completion.choices[0].message.content\n",
    "            qa.append(synthetic_text)\n",
    "            break\n",
    "\n",
    "        except Exception as e:\n",
    "            print(f\"Error encountered: {e}. Retrying in 1 minute...\")\n",
    "            time.sleep(60)\n",
    "\n",
    "train_data['qa'] = qa\n"
   ]
  },
  {
   "cell_type": "code",
   "execution_count": 33,
   "metadata": {},
   "outputs": [
    {
     "name": "stdout",
     "output_type": "stream",
     "text": [
      "                                             question  \\\n",
      "0   What is a common goal of employee well-being i...   \n",
      "1   What type of coverage is included in the insur...   \n",
      "2   What is the primary purpose of the \"Supplement...   \n",
      "3   What is a potential risk associated with inves...   \n",
      "4   What is the primary purpose of a confidentiali...   \n",
      "..                                                ...   \n",
      "95  What is the primary purpose of the compliance ...   \n",
      "96  What is the primary purpose of a bill of ladin...   \n",
      "97  What is a key measure to enhance cybersecurity...   \n",
      "98  What is a common reason why students may reque...   \n",
      "99  What type of expenses are typically covered un...   \n",
      "\n",
      "                                             option_a  \\\n",
      "0                 To increase employee turnover rates   \n",
      "1                                                None   \n",
      "2                    To report income from employment   \n",
      "3   The bonds are guaranteed to increase in value ...   \n",
      "4   To establish the scope of services provided by...   \n",
      "..                                                ...   \n",
      "95  To guarantee or imply warranty or liability on...   \n",
      "96        To record payment terms and freight charges   \n",
      "97  Regularly sharing sensitive information via em...   \n",
      "98                  To avoid taking out student loans   \n",
      "99                Routine grooming and boarding costs   \n",
      "\n",
      "                                             option_b  \\\n",
      "0   To promote a healthy work-life balance and imp...   \n",
      "1                                                None   \n",
      "2    To calculate total gross income from all sources   \n",
      "3   The bonds are denominated in a currency that i...   \n",
      "4   To outline the payment terms and compensation ...   \n",
      "..                                                ...   \n",
      "95  To demonstrate that the products have undergon...   \n",
      "96     To document the transfer of ownership of goods   \n",
      "97  Using weak, duplicate passwords for all compan...   \n",
      "98                 To demonstrate academic excellence   \n",
      "99  Veterinary expenses, including examinations, d...   \n",
      "\n",
      "                                             option_c  \\\n",
      "0      To reduce employee productivity and efficiency   \n",
      "1                                                None   \n",
      "2   To report and calculate income and expenses fr...   \n",
      "3   The value of the bonds may decline if interest...   \n",
      "4   To protect sensitive information shared betwee...   \n",
      "..                                                ...   \n",
      "95  To provide a detailed description of the testi...   \n",
      "96  To provide a detailed description of the commo...   \n",
      "97  Enabling multi-factor authentication on all de...   \n",
      "98  To overcome financial difficulties and ensure ...   \n",
      "99                       Pet food and supply expenses   \n",
      "\n",
      "                                             option_d  \\\n",
      "0            To eliminate employee benefits and perks   \n",
      "1                                                None   \n",
      "2        To claim deductions for charitable donations   \n",
      "3     The bonds are backed by a government guarantee.   \n",
      "4   To specify the duration of the freelance agree...   \n",
      "..                                                ...   \n",
      "95  To certify the quality of the products based o...   \n",
      "96  To specify the payment method and due date for...   \n",
      "97                                               None   \n",
      "98         To gain an advantage over other applicants   \n",
      "99           Travel and transportation costs for pets   \n",
      "\n",
      "                                       correct_answer  \n",
      "0   B) To promote a healthy work-life balance and ...  \n",
      "1                                                None  \n",
      "2   C) To report and calculate income and expenses...  \n",
      "3   C) The value of the bonds may decline if inter...  \n",
      "4   C) To protect sensitive information shared bet...  \n",
      "..                                                ...  \n",
      "95  B) To demonstrate that the products have under...  \n",
      "96  B) To document the transfer of ownership of goods  \n",
      "97  D) Enabling multi-factor authentication on all...  \n",
      "98  C) To overcome financial difficulties and ensu...  \n",
      "99  B) Veterinary expenses, including examinations...  \n",
      "\n",
      "[100 rows x 6 columns]\n"
     ]
    }
   ],
   "source": [
    "import pandas as pd\n",
    "import re\n",
    "\n",
    "# Example data\n",
    "data = train_data['qa']\n",
    "\n",
    "# Initialize lists for storing parsed information\n",
    "questions, option_a, option_b, option_c, option_d, correct_answers = [], [], [], [], [], []\n",
    "\n",
    "# Process each question-answer block\n",
    "for entry in data:\n",
    "    # Extract the question\n",
    "    question_match = re.search(r'^(.*?)\\n\\n', entry, re.DOTALL)\n",
    "    question = question_match.group(1) if question_match else None\n",
    "    questions.append(question)\n",
    "    \n",
    "    # Extract options\n",
    "    options = re.findall(r'([A-D]\\)) (.*?)(?=\\n|$)', entry)\n",
    "    option_a.append(options[0][1] if len(options) > 0 else None)\n",
    "    option_b.append(options[1][1] if len(options) > 1 else None)\n",
    "    option_c.append(options[2][1] if len(options) > 2 else None)\n",
    "    option_d.append(options[3][1] if len(options) > 3 else None)\n",
    "    \n",
    "    # Extract correct answer\n",
    "    correct_match = re.search(r'Correct answer: ([A-D]\\)) (.*)', entry)\n",
    "    correct_answer = correct_match.group(1) + \" \" + correct_match.group(2) if correct_match else None\n",
    "    correct_answers.append(correct_answer)\n",
    "\n",
    "# Create a DataFrame with the parsed data\n",
    "df = pd.DataFrame({\n",
    "    'question': questions,\n",
    "    'option_a': option_a,\n",
    "    'option_b': option_b,\n",
    "    'option_c': option_c,\n",
    "    'option_d': option_d,\n",
    "    'correct_answer': correct_answers\n",
    "})\n",
    "\n",
    "# Display the DataFrame\n",
    "print(df)\n",
    "\n",
    "# Save to CSV (optional)\n",
    "df.to_csv(\"processed_questions_general-4.csv\", index=False)\n"
   ]
  }
 ],
 "metadata": {
  "kernelspec": {
   "display_name": "Python 3",
   "language": "python",
   "name": "python3"
  },
  "language_info": {
   "codemirror_mode": {
    "name": "ipython",
    "version": 3
   },
   "file_extension": ".py",
   "mimetype": "text/x-python",
   "name": "python",
   "nbconvert_exporter": "python",
   "pygments_lexer": "ipython3",
   "version": "3.10.12"
  }
 },
 "nbformat": 4,
 "nbformat_minor": 2
}
